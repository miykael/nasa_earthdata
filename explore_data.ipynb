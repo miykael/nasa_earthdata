{
 "cells": [
  {
   "cell_type": "markdown",
   "metadata": {},
   "source": [
    "# NASA Earthdata Worldview\n",
    "\n",
    "https://worldview.earthdata.nasa.gov/?p=geographic&l=SMAP_L4_Emult_Average&t=2018-08-01-T00%3A00%3A00Z&z=3&v=-180,-90,180,90"
   ]
  },
  {
   "cell_type": "code",
   "execution_count": null,
   "metadata": {},
   "outputs": [],
   "source": [
    "%matplotlib inline\n",
    "from matplotlib import pyplot as plt\n",
    "import numpy as np\n",
    "from PIL import Image\n",
    "import pandas as pd\n",
    "from imageio import mimwrite\n",
    "import requests"
   ]
  },
  {
   "cell_type": "code",
   "execution_count": null,
   "metadata": {},
   "outputs": [],
   "source": [
    "def collect_img_binary(date, layer, extent, width, height):\n",
    "    \n",
    "    # Create URL to download image\n",
    "    nasa_url = \"https://wvs.earthdata.nasa.gov/api/v1/snapshot?REQUEST=GetSnapshot\"\n",
    "    nasa_url += \"&TIME=%s\" % date.strftime('%Y-%m-%d')\n",
    "    nasa_url += \"&BBOX=%s\" % ','.join([str(e) for e in extent])\n",
    "    nasa_url += \"&CRS=EPSG:4326\"\n",
    "    nasa_url += \"&LAYERS=%s\" % layer\n",
    "    nasa_url += \"&FORMAT=image/png\"\n",
    "    nasa_url += \"&WIDTH={0:d}&HEIGHT={1:d}\".format(width, height)\n",
    "    \n",
    "    # Request content and save binary PNG file in variable\n",
    "    r = requests.get(nasa_url, allow_redirects=True)\n",
    "    img_binary = r.content\n",
    "    \n",
    "    return img_binary"
   ]
  },
  {
   "cell_type": "code",
   "execution_count": null,
   "metadata": {},
   "outputs": [],
   "source": [
    "def recreate_img(img_binary, height):\n",
    "    \n",
    "    # Store binary content in PNG file 'temp.png'\n",
    "    with open('temp.png', 'wb') as f:\n",
    "        f.write(img_binary)\n",
    "\n",
    "    # Open PNG file and extract data value for each RGBA pixel\n",
    "    im_frame = Image.open('temp.png')\n",
    "    data = np.array(im_frame.getdata()).reshape(height, -1, 4)\n",
    "    \n",
    "    return data"
   ]
  },
  {
   "cell_type": "code",
   "execution_count": null,
   "metadata": {},
   "outputs": [],
   "source": [
    "def collect_dataset(start_date, end_date, layer, extent=(27, -10, 63, 43),\n",
    "                    width=400, frequency='1MS'):\n",
    "    \n",
    "    # Compute height based on width and the bounding box of the image\n",
    "    relation = float(extent[2] - extent[0]) / (extent[3] - extent[1])\n",
    "    height = int(width * relation)\n",
    "    \n",
    "    timeline = pd.date_range(start_date, end_date, freq=frequency)\n",
    "    \n",
    "    dataset = []\n",
    "    \n",
    "    for t in timeline:\n",
    "        \n",
    "        img_binary = collect_img_binary(t.date(), layer, extent, width, height)\n",
    "    \n",
    "        data = recreate_img(img_binary, height)\n",
    "\n",
    "        data = data[..., :3].astype('uint8')\n",
    "\n",
    "        dataset.append(data)\n",
    "\n",
    "        print(t.strftime('%Y-%m-%d'))\n",
    "    \n",
    "    return np.array(dataset)"
   ]
  },
  {
   "cell_type": "code",
   "execution_count": null,
   "metadata": {},
   "outputs": [],
   "source": [
    "def img_has_content(data, thresh=0.15):\n",
    "    rows_with_content = np.where(np.sum(data, axis=(-2, -1)))\n",
    "    return np.max(rows_with_content) > data.shape[1]*thresh"
   ]
  },
  {
   "cell_type": "markdown",
   "metadata": {},
   "source": [
    "# Test functions"
   ]
  },
  {
   "cell_type": "code",
   "execution_count": null,
   "metadata": {},
   "outputs": [],
   "source": [
    "layer = 'VIIRS_SNPP_CorrectedReflectance_TrueColor'"
   ]
  },
  {
   "cell_type": "code",
   "execution_count": null,
   "metadata": {},
   "outputs": [],
   "source": [
    "start_date = '2018-01-01'\n",
    "end_date = '2018-12-31'"
   ]
  },
  {
   "cell_type": "code",
   "execution_count": null,
   "metadata": {},
   "outputs": [],
   "source": [
    "extent=(-80, -160, 80, 180)\n",
    "width=1280\n",
    "frequency='12MS'"
   ]
  },
  {
   "cell_type": "code",
   "execution_count": null,
   "metadata": {},
   "outputs": [],
   "source": [
    "dataset = collect_dataset(start_date, end_date, layer,\n",
    "                          extent, width, frequency)"
   ]
  },
  {
   "cell_type": "code",
   "execution_count": null,
   "metadata": {},
   "outputs": [],
   "source": [
    "plt.figure(figsize=(12, 10))\n",
    "plt.imshow(dataset[0]);"
   ]
  },
  {
   "cell_type": "code",
   "execution_count": null,
   "metadata": {},
   "outputs": [],
   "source": []
  },
  {
   "cell_type": "code",
   "execution_count": null,
   "metadata": {},
   "outputs": [],
   "source": [
    "layers=['MODIS_Aqua_Chlorophyll_A',\n",
    "        'MODIS_Combined_Thermal_Anomalies_All',\n",
    "        'MODIS_Terra_Chlorophyll_A',\n",
    "        'MODIS_Terra_EVI_8Day',\n",
    "        'SMAP_L1_Passive_Enhanced_Brightness_Temp_Fore_H',\n",
    "        'SMAP_L2_Passive_Enhanced_Day_Soil_Moisture_Option1',\n",
    "        'SMAP_L4_Emult_Average',\n",
    "        'SMAP_L4_Mean_Heterotrophic_Respiration',\n",
    "        'SMAP_L4_Mean_Net_Ecosystem_Exchange',\n",
    "        'SMAP_L4_Soil_Temperature_Layer_1',\n",
    "        'SMAP_L4_Uncertainty_Mean_Net_Ecosystem_Exchange',\n",
    "        'VIIRS_SNPP_CorrectedReflectance_TrueColor'\n",
    "        ]\n",
    "layers=['VIIRS_SNPP_CorrectedReflectance_TrueColor'\n",
    "        ]"
   ]
  },
  {
   "cell_type": "code",
   "execution_count": null,
   "metadata": {},
   "outputs": [],
   "source": [
    "start_date = '2018-01-01'\n",
    "end_date = '2018-12-31'\n",
    "\n",
    "extent=(-60, -160, 80, 180)\n",
    "width=1280\n",
    "frequency='1MS'\n",
    "\n",
    "for l in layers:\n",
    "    print('\\n', l)\n",
    "    dataset = collect_dataset(start_date, end_date, l, extent, width, frequency)\n",
    "    mimwrite('gif_%s.gif' % l, dataset, format='gif', fps=6)"
   ]
  },
  {
   "cell_type": "code",
   "execution_count": null,
   "metadata": {},
   "outputs": [],
   "source": []
  },
  {
   "cell_type": "code",
   "execution_count": null,
   "metadata": {},
   "outputs": [],
   "source": [
    "start_date = '2018-01-01'\n",
    "end_date = '2018-04-01'\n",
    "width=500\n",
    "frequency='1D'"
   ]
  },
  {
   "cell_type": "code",
   "execution_count": null,
   "metadata": {
    "scrolled": true
   },
   "outputs": [],
   "source": [
    "layer = 'VIIRS_SNPP_CorrectedReflectance_TrueColor'\n",
    "extent = (35, -15, 60, 20)\n",
    "dataset = collect_dataset(start_date, end_date, layer, extent, width, frequency)"
   ]
  },
  {
   "cell_type": "code",
   "execution_count": null,
   "metadata": {},
   "outputs": [],
   "source": [
    "dataset.shape"
   ]
  },
  {
   "cell_type": "code",
   "execution_count": null,
   "metadata": {},
   "outputs": [],
   "source": [
    "plt.imshow(np.min(dataset, axis=0)/255.)"
   ]
  },
  {
   "cell_type": "code",
   "execution_count": null,
   "metadata": {},
   "outputs": [],
   "source": [
    "df = pd.DataFrame(dataset.reshape(dataset.shape[0], -1))\n",
    "df.shape"
   ]
  },
  {
   "cell_type": "code",
   "execution_count": null,
   "metadata": {},
   "outputs": [],
   "source": [
    "window_size = 14"
   ]
  },
  {
   "cell_type": "code",
   "execution_count": null,
   "metadata": {},
   "outputs": [],
   "source": [
    "%time new = df.rolling(window_size).quantile(0.05)"
   ]
  },
  {
   "cell_type": "code",
   "execution_count": null,
   "metadata": {
    "scrolled": true
   },
   "outputs": [],
   "source": [
    "%time ok = new.to_numpy().reshape(dataset.shape).astype('uint8')"
   ]
  },
  {
   "cell_type": "code",
   "execution_count": null,
   "metadata": {},
   "outputs": [],
   "source": [
    "plt.imshow(ok[18])"
   ]
  },
  {
   "cell_type": "code",
   "execution_count": null,
   "metadata": {},
   "outputs": [],
   "source": [
    "%time mimwrite('gif_orig.gif', dataset, format='gif', fps=14)"
   ]
  },
  {
   "cell_type": "code",
   "execution_count": null,
   "metadata": {
    "scrolled": true
   },
   "outputs": [],
   "source": [
    "%time mimwrite('gif_ok.gif', ok, format='gif', fps=14)"
   ]
  },
  {
   "cell_type": "code",
   "execution_count": null,
   "metadata": {},
   "outputs": [],
   "source": []
  },
  {
   "cell_type": "code",
   "execution_count": null,
   "metadata": {},
   "outputs": [],
   "source": [
    "X = np.transpose(dataset.reshape((dataset.shape[0], -1)))"
   ]
  },
  {
   "cell_type": "code",
   "execution_count": null,
   "metadata": {},
   "outputs": [],
   "source": [
    "from sklearn.decomposition import FastICA\n",
    "transformer = FastICA(n_components=14, random_state=0)\n",
    "X_transformed = transformer.fit_transform(X)\n",
    "X_transformed.shape"
   ]
  },
  {
   "cell_type": "code",
   "execution_count": null,
   "metadata": {},
   "outputs": [],
   "source": [
    "components = X_transformed.reshape((*dataset.shape[1:], -1))\n",
    "components.shape"
   ]
  },
  {
   "cell_type": "code",
   "execution_count": null,
   "metadata": {},
   "outputs": [],
   "source": [
    "components.min(axis=(-2, -1)).shape"
   ]
  },
  {
   "cell_type": "code",
   "execution_count": null,
   "metadata": {},
   "outputs": [],
   "source": [
    "rgb = components.copy()\n",
    "rgb -= rgb.min()\n",
    "rgb /= rgb.max()"
   ]
  },
  {
   "cell_type": "code",
   "execution_count": null,
   "metadata": {},
   "outputs": [],
   "source": [
    "plt.imshow(rgb[..., 0])"
   ]
  },
  {
   "cell_type": "code",
   "execution_count": null,
   "metadata": {},
   "outputs": [],
   "source": [
    "plt.imshow(rgb[..., 1])"
   ]
  },
  {
   "cell_type": "code",
   "execution_count": null,
   "metadata": {},
   "outputs": [],
   "source": [
    "plt.imshow(rgb[..., 2])"
   ]
  },
  {
   "cell_type": "code",
   "execution_count": null,
   "metadata": {},
   "outputs": [],
   "source": [
    "plt.imshow(rgb[..., 3])"
   ]
  },
  {
   "cell_type": "code",
   "execution_count": null,
   "metadata": {},
   "outputs": [],
   "source": [
    "plt.imshow(rgb[..., 4])"
   ]
  },
  {
   "cell_type": "code",
   "execution_count": null,
   "metadata": {},
   "outputs": [],
   "source": []
  }
 ],
 "metadata": {
  "kernelspec": {
   "display_name": "Python 3",
   "language": "python",
   "name": "python3"
  },
  "language_info": {
   "codemirror_mode": {
    "name": "ipython",
    "version": 3
   },
   "file_extension": ".py",
   "mimetype": "text/x-python",
   "name": "python",
   "nbconvert_exporter": "python",
   "pygments_lexer": "ipython3",
   "version": "3.6.8"
  }
 },
 "nbformat": 4,
 "nbformat_minor": 2
}
