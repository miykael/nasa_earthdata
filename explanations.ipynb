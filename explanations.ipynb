{
 "cells": [
  {
   "cell_type": "code",
   "execution_count": null,
   "metadata": {},
   "outputs": [],
   "source": [
    "-56, -168, 74, 180"
   ]
  },
  {
   "cell_type": "markdown",
   "metadata": {},
   "source": [
    "# MODIS_Aqua_Chlorophyll_A & MODIS_Terra_Chlorophyll_A\n",
    "- **Title**: Chlorophyll A\n",
    "- [Homepage](https://worldview.earthdata.nasa.gov/?p=geographic&l=MODIS_Aqua_Chlorophyll_A&t=2018-08-01-T00%3A00%3A00Z&z=3&v=-180,-90,180,90)\n",
    "- **Temporal coverage**: 2 July 2013 - Present\n",
    "- **Explanation**: The MODIS Chlorophyll a layer provides the near-surface concentration of chlorophyll a in milligrams of chlorophyll pigment per cubic meter (mg/m3) in the ocean. Chlorophyll is a light harvesting pigment found in most photosynthetic organisms. [...] The MODIS Chlorophyll a product is therefore a useful product for assessing the “health” of the ocean. [...] Chlorophyll concentration is also useful for studying the earth’s climate system as it is plays an integral role in the Global Carbon Cycle. More phytoplankton in the ocean may result in a higher capture rate of carbon dioxide into the ocean and help cool the planet.\n",
    "- **Resolution**: 1 km and daily"
   ]
  },
  {
   "cell_type": "markdown",
   "metadata": {},
   "source": [
    "# MODIS_Combined_Thermal_Anomalies_All\n",
    "- **Title**: Fires and Thermal Anomalies (Day and Night)\n",
    "- [Homepage](https://worldview.earthdata.nasa.gov/?p=geographic&l=MODIS_Combined_Thermal_Anomalies_All&t=2018-08-01-T00%3A00%3A00Z&z=3&v=-180,-90,180,90)\n",
    "- **Temporal coverage**: 8 May 2012 - Present\n",
    "- **Explanation**: The MODIS Fire and Thermal Anomalies layer shows active fire detections and thermal anomalies, such as volcanoes, and gas flares. Fires can be set naturally, such as by lightning, or by humans, whether intentionally or accidentally. [...] The fire layer is useful for studying the spatial and temporal distribution of fire, to locate persistent hot spots such as volcanoes and gas flares, to locate the source of air pollution from smoke that may have adverse human health impacts.\n",
    "- **Resolution**: 1 km and daily"
   ]
  },
  {
   "cell_type": "markdown",
   "metadata": {},
   "source": [
    "# MODIS_Terra_EVI_8Day\n",
    "- **Title**: Enhanced Vegetation Index (EVI) (rolling 8-day)\n",
    "- [Homepage](https://worldview.earthdata.nasa.gov/?p=geographic&l=MODIS_Terra_EVI_8Day&t=2018-08-01-T00%3A00%3A00Z&z=3&v=-180,-90,180,90)\n",
    "- **Temporal coverage**: 30 July 2016 - Present\n",
    "- **Explanation**: The MODIS Enhanced Vegetation Index (EVI) is also used as a measure of the greenness and health of vegetation. It is calculated in a similar fashion as NDVI but it corrects for distortions caused by ground cover beneath the canopy vegetation and distortions in reflected light caused by particles in the air by using the blue band to remove residual atmosphere contamination caused by smoke and sub-pixel thin cirrus clouds. The EVI is more effective in areas with large amounts of chlorophyll such as rainforests. The index values range from -0.2 to 1 where higher values (0.3 to 1) indicate areas covered by green, leafy vegetation and lower values (0 to 0.3) indicate areas where there is little or no vegetation.\n",
    "- **Resolution**: 250 m and rolling 8-day"
   ]
  },
  {
   "cell_type": "markdown",
   "metadata": {},
   "source": [
    "# SMAP_L1_Passive_Enhanced_Brightness_Temp_Fore_H\n",
    "- **Title**: Uncorrected Brightness Temperature 9 km (L1, Passive, Fore, H Polarization)\n",
    "- [Homepage](https://worldview.earthdata.nasa.gov/?p=geographic&l=SMAP_L1_Passive_Enhanced_Brightness_Temp_Fore_H&t=2018-08-01-T00%3A00%3A00Z&z=3&v=-180,-90,180,90)\n",
    "- **Temporal coverage**: 31 March 2015 - Present\n",
    "- **Explanation**: The Soil Moisture Active Passive (SMAP) \"Uncorrected Brightness Temperature 9 km\" layer displays brightness temperatures (TBs) uncorrected for the presence of water in Kelvin (K) for the horizontal (H) polarization of the fore scan from the SMAP radiometer.\n",
    "- **Resolution**: 9 km and daily"
   ]
  },
  {
   "cell_type": "markdown",
   "metadata": {},
   "source": [
    "# SMAP_L2_Passive_Enhanced_Day_Soil_Moisture_Option1\n",
    "- **Title**: Soil Moisture 9 km (L2, Passive, Day, Single Channel Algorithm, H-pol)\n",
    "- [Homepage](https://worldview.earthdata.nasa.gov/?p=geographic&l=SMAP_L2_Passive_Enhanced_Day_Soil_Moisture_Option1&t=2018-08-01-T00%3A00%3A00Z&z=3&v=-180,-90,180,90)\n",
    "- **Temporal coverage**: 31 March 2015 - Present\n",
    "- **Explanation**: The Soil Moisture Active Passive (SMAP) \"Soil Moisture 9 km (L2, Passive, Day, Single Channel Algorithm, H Polarization)\" layer displays surface soil moisture in cm3/cm3 derived from the Single Channel Algorithm H-Pol (SCA-H), one of four optional soil moisture algorithms, for the 6:00 a.m. descending (Day) half-orbit passes of the SMAP radiometer. The SMAP radiometer measures natural thermal emission emanating from the soil surface.\n",
    "- **Resolution**: 9 km and daily"
   ]
  },
  {
   "cell_type": "markdown",
   "metadata": {},
   "source": [
    "# SMAP_L4_Emult_Average\n",
    "- **Title**: Percent of Potential Vegetation Light Use Efficiency (L4, 9 km Grid Cell Mean)\n",
    "- [Homepage](https://worldview.earthdata.nasa.gov/?p=geographic&l=SMAP_L4_Emult_Average&t=2018-08-01-T00%3A00%3A00Z&z=3&v=-180,-90,180,90)\n",
    "- **Temporal coverage**: 13 April 2015 - Present\n",
    "- **Explanation**: The Soil Moisture Active Passive (SMAP) “Percent of Potential Vegetation Light Use Efficiency (L4, 9 km Grid Cell Mean, Model Value-Added)” layer displays model-derived global daily average estimated percent of bulk environmental constraint to Photosynthetically Active Radiation (PAR) conversion efficiency and vegetation productivity.\n",
    "- **Resolution**: 9 km and daily"
   ]
  },
  {
   "cell_type": "markdown",
   "metadata": {},
   "source": [
    "# SMAP_L4_Mean_Heterotrophic_Respiration\n",
    "- **Title**: Heterotrophic Respiration (L4, 9 km Grid Cell Mean)\n",
    "- [Homepage](https://worldview.earthdata.nasa.gov/?p=geographic&l=SMAP_L4_Mean_Heterotrophic_Respiration&t=2018-08-01-T00%3A00%3A00Z&z=3&v=-180,-90,180,90)\n",
    "- **Temporal coverage**: 13 April 2015 - Present\n",
    "- **Explanation**: The Soil Moisture Active Passive (SMAP) “Heterotrophic Respiration (L4, 9 km Grid Cell Mean, Model Value-Added)” layer displays model-derived global daily heterotrophic respiration in grams of carbon uptake per meter squared per day ( gC m-2 day-1) posted on a 9 km EASE-Grid 2.0. Heterotrophic respiration is computed as the sum of variable decomposition and respiration rates from metabolic, structural, and recalcitrant Soil Organic Carbon (SOC) pools and corresponding decomposition rate parameters. The metabolic and structural SOC pools represent plant litter with relatively short (e.g., ≤ 5 years) turnover periods, while the recalcitrant pool represents more physically and chemically protected SOC with a longer turnover time.\n",
    "- **Resolution**: 9 km and daily"
   ]
  },
  {
   "cell_type": "markdown",
   "metadata": {},
   "source": [
    "# SMAP_L4_Mean_Net_Ecosystem_Exchange\n",
    "- **Title**: Net Ecosystem CO2 Exchange (L4, 9 km Grid Cell Mean)\n",
    "- [Homepage](https://worldview.earthdata.nasa.gov/?p=geographic&l=SMAP_L4_Mean_Net_Ecosystem_Exchange&t=2018-08-01-T00%3A00%3A00Z&z=3&v=-180,-90,180,90)\n",
    "- **Temporal coverage**: 13 April 2015 - Present\n",
    "- **Explanation**: The Soil Moisture Active Passive (SMAP) “Net Ecosystem CO2 Exchange (L4, 9 km Grid Cell Mean, Model Value-Added)” layer displays model-derived global gridded mean daily estimates of net ecosystem carbon (CO2) exchange in grams of carbon uptake per meter squared per day (gC m-2 day-1). The net ecosystem exchange of CO2 with the atmosphere is a fundamental measure of the balance between carbon uptake by vegetation gross primary production (GPP) and carbon losses through autotrophic (Ra) and heterotrophic (Rh) respiration. The sum of Ra and Rh defines the total ecosystem respiration rate (Rtot), which encompasses most of the annual terrestrial CO2 efflux to the atmosphere.\n",
    "- **Resolution**: 9 km and daily"
   ]
  },
  {
   "cell_type": "markdown",
   "metadata": {},
   "source": [
    "# SMAP_L4_Uncertainty_Mean_Net_Ecosystem_Exchange\n",
    "- **Title**: Net Ecosystem CO2 Exchange Uncertainty 9 km (L4, 9 km Grid Cell Mean)\n",
    "- [Homepage](https://worldview.earthdata.nasa.gov/?p=geographic&l=SMAP_L4_Uncertainty_Mean_Net_Ecosystem_Exchange&t=2018-08-01-T00%3A00%3A00Z&z=3&v=-180,-90,180,90)\n",
    "- **Temporal coverage**: 31 March 2015 - Present\n",
    "- **Explanation**: The Soil Moisture Active Passive (SMAP) “Net Ecosystem CO2 Exchange Uncertainty (L4, 9 km Grid Cell Mean, Model Value-Added)” layer displays uncertainty estimates of model-derived global gridded mean daily estimates of net ecosystem carbon (CO2) exchange in grams of carbon uptake per meter squared per day (gC m-2 day-1) posted on a 9 km EASE-Grid 2.0. The net ecosystem exchange of CO2 with the atmosphere is a fundamental measure of the balance between carbon uptake by vegetation gross primary production (GPP) and carbon losses through autotrophic (Ra) and heterotrophic (Rh) respiration. The sum of Ra and Rh defines the total ecosystem respiration rate (Rtot), which encompasses most of the annual terrestrial CO2 efflux to the atmosphere.\n",
    "- **Resolution**: 9 km and daily"
   ]
  },
  {
   "cell_type": "markdown",
   "metadata": {},
   "source": [
    "# SMAP_L4_Soil_Temperature_Layer_1\n",
    "- **Title**: Surface Soil Temperature 9 km (L4, 12z Instantaneous)\n",
    "- [Homepage](https://worldview.earthdata.nasa.gov/?p=geographic&l=SMAP_L4_Soil_Temperature_Layer_1&t=2018-08-01-T00%3A00%3A00Z&z=3&v=-180,-90,180,90)\n",
    "- **Temporal coverage**: 31 March 2015 - Present\n",
    "- **Explanation**: The Soil Moisture Active Passive (SMAP) “Surface Soil Temperature 9 km (L4, 12z Instantaneous, Model Value-Added)” layer displays model-derived global surface soil temperature in the top 5 cm of the soil column in Kelvin (K).\n",
    "- **Resolution**: 9 km and daily"
   ]
  },
  {
   "cell_type": "markdown",
   "metadata": {},
   "source": [
    "# VIIRS_SNPP_CorrectedReflectance_TrueColor\n",
    "- **Title**: Corrected Reflectance (True Color)\n",
    "- [Homepage](https://worldview.earthdata.nasa.gov/?p=geographic&l=VIIRS_SNPP_CorrectedReflectance_TrueColor&t=2018-08-01-T00%3A00%3A00Z&z=3&v=-180,-90,180,90)\n",
    "- **Temporal coverage**: 24 November 2015 - Present\n",
    "- **Explanation**: These images are called true-color or natural color because this combination of wavelengths is similar to what the human eye would see. The images are natural-looking images of land surface, oceanic and atmospheric features.\n",
    "- **Resolution**: 250 m and daily"
   ]
  }
 ],
 "metadata": {
  "kernelspec": {
   "display_name": "Python 3",
   "language": "python",
   "name": "python3"
  },
  "language_info": {
   "codemirror_mode": {
    "name": "ipython",
    "version": 3
   },
   "file_extension": ".py",
   "mimetype": "text/x-python",
   "name": "python",
   "nbconvert_exporter": "python",
   "pygments_lexer": "ipython3",
   "version": "3.7.1"
  }
 },
 "nbformat": 4,
 "nbformat_minor": 2
}
